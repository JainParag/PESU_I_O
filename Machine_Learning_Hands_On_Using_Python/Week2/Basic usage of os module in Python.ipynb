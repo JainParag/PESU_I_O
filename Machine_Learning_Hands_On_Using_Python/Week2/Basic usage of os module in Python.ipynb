{
 "cells": [
  {
   "cell_type": "markdown",
   "metadata": {},
   "source": [
    "# OS Module in Python"
   ]
  },
  {
   "cell_type": "markdown",
   "metadata": {},
   "source": [
    "<p>**os** module of python is prodigiously used for loading the data on the Memory and preprocessing tasks in Machine Learning. Preprocessing may differ depending on what one intends to do. One should be familiar with the ways in which **os** module can be used to suit their needs. </p>\n",
    "\n",
    "<h3>To list a few functions that are used:</h3>\n",
    "- *os.listdir*\n",
    "- *os.walk*\n",
    "- *os.mkdir*\n",
    "\n",
    "<h3>Few attributes used:</h3>\n",
    "- *os.path.sep*"
   ]
  },
  {
   "cell_type": "code",
   "execution_count": 12,
   "metadata": {
    "collapsed": true
   },
   "outputs": [],
   "source": [
    "import os"
   ]
  },
  {
   "cell_type": "code",
   "execution_count": 13,
   "metadata": {
    "collapsed": true
   },
   "outputs": [],
   "source": [
    "folder_path = '.' # Single dot indicates the path of the CURRENT folder/directory. In UNIX term, single dot is a hard-link to the current directory."
   ]
  },
  {
   "cell_type": "markdown",
   "metadata": {},
   "source": [
    "<h3>Print the list of names of all the files and folders/directories present in the CURRENT folder/directory only</h3>\n",
    "\n"
   ]
  },
  {
   "cell_type": "code",
   "execution_count": 14,
   "metadata": {
    "scrolled": true
   },
   "outputs": [
    {
     "name": "stdout",
     "output_type": "stream",
     "text": [
      "['dummyFolder1', 'filename1.txt', 'filename3.csv', 'Week2Task3(UnixCommands).pdf', '.ipynb_checkpoints', 'datasets', 'filename2.txt', 'Basic usage of os module in Python.ipynb']\n"
     ]
    }
   ],
   "source": [
    "print(os.listdir('.'))"
   ]
  },
  {
   "cell_type": "markdown",
   "metadata": {},
   "source": [
    "<h3>Observe the output of os.walk</h3>"
   ]
  },
  {
   "cell_type": "code",
   "execution_count": 20,
   "metadata": {},
   "outputs": [
    {
     "name": "stdout",
     "output_type": "stream",
     "text": [
      "('./datasets/animals', ['cats', 'dogs', 'pandas'], [])\n",
      "()\n",
      "('./datasets/animals/cats', [], ['README.MD', 'cat3.jpg', 'cat4.bmp', 'cat2.jpg', 'cat1.jpg'])\n",
      "()\n",
      "('./datasets/animals/dogs', [], ['labels.csv', 'dog2.jpg', 'dog1.jpg', 'dog4.jpeg', 'dog3.jpg', 'dog5.png'])\n",
      "()\n",
      "('./datasets/animals/pandas', [], ['panda6.png', 'panda2.jpg', 'panda4.bmp', 'panda3.csv', 'panda1.jpg', 'panda5.txt'])\n",
      "()\n"
     ]
    }
   ],
   "source": [
    "labels = []\n",
    "validExtensions = ['jpg', 'jpeg', 'png', 'bmp']\n",
    "for pathName, folderNames, fileNames in os.walk('./datasets/animals'):\n",
    "    print(pathName, folderNames, fileNames)\n",
    "    print()"
   ]
  },
  {
   "cell_type": "markdown",
   "metadata": {},
   "source": [
    "<h3>Print all the path names, folder and file names present in datasets folder (recursively)</h3>\n"
   ]
  },
  {
   "cell_type": "code",
   "execution_count": 21,
   "metadata": {},
   "outputs": [
    {
     "name": "stdout",
     "output_type": "stream",
     "text": [
      "['animals', 'df2_file1.csv']\n",
      "('./datasets', ['animals'], ['df2_file1.csv'])\n",
      "('./datasets/animals', ['cats', 'dogs', 'pandas'], [])\n",
      "('./datasets/animals/cats', [], ['README.MD', 'cat3.jpg', 'cat4.bmp', 'cat2.jpg', 'cat1.jpg'])\n",
      "('./datasets/animals/dogs', [], ['labels.csv', 'dog2.jpg', 'dog1.jpg', 'dog4.jpeg', 'dog3.jpg', 'dog5.png'])\n",
      "('./datasets/animals/pandas', [], ['panda6.png', 'panda2.jpg', 'panda4.bmp', 'panda3.csv', 'panda1.jpg', 'panda5.txt'])\n"
     ]
    }
   ],
   "source": [
    "print(os.listdir('./datasets'))\n",
    "for pathName, folderNames, fileNames in os.walk('./datasets'):\n",
    "    print(pathName, folderNames, fileNames)"
   ]
  },
  {
   "cell_type": "markdown",
   "metadata": {},
   "source": [
    "<h3>Print the path name along with file name for all the files present in the datasets/animals folder (recursively)</h3>\n"
   ]
  },
  {
   "cell_type": "code",
   "execution_count": 22,
   "metadata": {},
   "outputs": [
    {
     "name": "stdout",
     "output_type": "stream",
     "text": [
      "['./datasets/animals/cats/README.MD', './datasets/animals/cats/cat3.jpg', './datasets/animals/cats/cat4.bmp', './datasets/animals/cats/cat2.jpg', './datasets/animals/cats/cat1.jpg', './datasets/animals/dogs/labels.csv', './datasets/animals/dogs/dog2.jpg', './datasets/animals/dogs/dog1.jpg', './datasets/animals/dogs/dog4.jpeg', './datasets/animals/dogs/dog3.jpg', './datasets/animals/dogs/dog5.png', './datasets/animals/pandas/panda6.png', './datasets/animals/pandas/panda2.jpg', './datasets/animals/pandas/panda4.bmp', './datasets/animals/pandas/panda3.csv', './datasets/animals/pandas/panda1.jpg', './datasets/animals/pandas/panda5.txt']\n"
     ]
    }
   ],
   "source": [
    "imagePaths = []\n",
    "for pathName, folderNames, fileNames in os.walk('./datasets/animals'): #http://www.bogotobogo.com/python/python_traversing_directory_tree_recursively_os_walk.php\n",
    "    for fileName in fileNames:\n",
    "        imagePaths.append(pathName+'/'+fileName)\n",
    "        \n",
    "print(imagePaths)"
   ]
  },
  {
   "cell_type": "markdown",
   "metadata": {},
   "source": [
    "<h3>Keep only those paths with fileNames ending with .jpg, .jpeg, .png, .bmp</h3>"
   ]
  },
  {
   "cell_type": "code",
   "execution_count": 23,
   "metadata": {},
   "outputs": [
    {
     "name": "stdout",
     "output_type": "stream",
     "text": [
      "['./datasets/animals/cats/cat3.jpg', './datasets/animals/cats/cat4.bmp', './datasets/animals/cats/cat2.jpg', './datasets/animals/cats/cat1.jpg', './datasets/animals/dogs/dog2.jpg', './datasets/animals/dogs/dog1.jpg', './datasets/animals/dogs/dog4.jpeg', './datasets/animals/dogs/dog3.jpg', './datasets/animals/dogs/dog5.png', './datasets/animals/pandas/panda6.png', './datasets/animals/pandas/panda2.jpg', './datasets/animals/pandas/panda4.bmp', './datasets/animals/pandas/panda1.jpg']\n"
     ]
    }
   ],
   "source": [
    "imagePaths = []\n",
    "validExtensions = ['jpg', 'jpeg', 'png', 'bmp']\n",
    "for pathName, folderNames, fileNames in os.walk('./datasets/animals'):\n",
    "    for fileName in fileNames:\n",
    "        if fileName.split(\".\")[-1] in validExtensions: #https://pythonprogramminglanguage.com/split-string/\n",
    "            imagePaths.append(pathName+'/'+fileName)\n",
    "            \n",
    "print(imagePaths)"
   ]
  },
  {
   "cell_type": "markdown",
   "metadata": {},
   "source": [
    "<h3>Extract the class label assuming that our path has the following format :</h3>\n",
    "<h4>/path/to/dataset/{class}/{image}.jpg<h4>\n",
    "<h3>Hint: Look at the output of imagePaths above</h3>"
   ]
  },
  {
   "cell_type": "code",
   "execution_count": 24,
   "metadata": {},
   "outputs": [
    {
     "name": "stdout",
     "output_type": "stream",
     "text": [
      "['cats', 'dogs', 'pandas']\n"
     ]
    }
   ],
   "source": [
    "labels = []\n",
    "for imagePath in imagePaths:\n",
    "    label = imagePath.split(os.path.sep)[-2]\n",
    "    if  label not in labels: #os.path.sep refers to path separator. \n",
    "        labels.append(label) #On Windows, path separator is '\\', where as on Ubuntu it is '/'\n",
    "\n",
    "print(labels)"
   ]
  },
  {
   "cell_type": "code",
   "execution_count": null,
   "metadata": {
    "collapsed": true
   },
   "outputs": [],
   "source": [
    "\n"
   ]
  },
  {
   "cell_type": "code",
   "execution_count": null,
   "metadata": {
    "collapsed": true
   },
   "outputs": [],
   "source": []
  }
 ],
 "metadata": {
  "kernelspec": {
   "display_name": "Python 2",
   "language": "python",
   "name": "python2"
  },
  "language_info": {
   "codemirror_mode": {
    "name": "ipython",
    "version": 2
   },
   "file_extension": ".py",
   "mimetype": "text/x-python",
   "name": "python",
   "nbconvert_exporter": "python",
   "pygments_lexer": "ipython2",
   "version": "2.7.13"
  }
 },
 "nbformat": 4,
 "nbformat_minor": 2
}
